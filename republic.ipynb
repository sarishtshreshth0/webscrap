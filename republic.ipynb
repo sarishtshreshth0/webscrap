{
 "cells": [
  {
   "cell_type": "code",
   "execution_count": 113,
   "id": "9d3edb20-f22e-47b0-93dd-7b159e8817d1",
   "metadata": {},
   "outputs": [],
   "source": [
    "import requests\n",
    "from bs4 import BeautifulSoup as bs \n",
    "from urllib.request import urlopen\n",
    "import logging "
   ]
  },
  {
   "cell_type": "code",
   "execution_count": 114,
   "id": "adc9a89c-f128-4523-9a94-91f2c36cfdd6",
   "metadata": {},
   "outputs": [],
   "source": [
    "news_page = \"https://bharat.republicworld.com/\"+\"livetv\""
   ]
  },
  {
   "cell_type": "code",
   "execution_count": 115,
   "id": "2d0f4ad6-cdcf-4e1d-8934-19c8f10b9b4c",
   "metadata": {},
   "outputs": [],
   "source": [
    "headers = {\n",
    "    'user-agent': 'Mozilla/5.0 (Macintosh; Intel Mac OS X 10_15_7) AppleWebKit/537.36 (KHTML, like Gecko) Chrome/102.0.0.0 Safari/537.36',\n",
    "}"
   ]
  },
  {
   "cell_type": "code",
   "execution_count": 116,
   "id": "c8cb62de-f57c-4acb-af67-adc548e3cd51",
   "metadata": {},
   "outputs": [
    {
     "data": {
      "text/plain": [
       "'https://bharat.republicworld.com/livetv'"
      ]
     },
     "execution_count": 116,
     "metadata": {},
     "output_type": "execute_result"
    }
   ],
   "source": [
    "news_page"
   ]
  },
  {
   "cell_type": "code",
   "execution_count": 117,
   "id": "3bd19c12-5d09-4337-8191-0593eba6fc0b",
   "metadata": {},
   "outputs": [],
   "source": [
    "urlclient = urlopen(news_page)"
   ]
  },
  {
   "cell_type": "code",
   "execution_count": 118,
   "id": "0e9f3678-f6fc-4ef1-9d33-d6e98e12894d",
   "metadata": {},
   "outputs": [],
   "source": [
    "news_page = urlclient.read()"
   ]
  },
  {
   "cell_type": "code",
   "execution_count": 119,
   "id": "da947696-a137-42b5-8d41-cf319bcbb060",
   "metadata": {},
   "outputs": [],
   "source": [
    "news_page_bs=bs(news_page,\"html.parser\")"
   ]
  },
  {
   "cell_type": "code",
   "execution_count": 120,
   "id": "5511e408-3169-45a0-a553-d0c2ef86bd96",
   "metadata": {},
   "outputs": [],
   "source": [
    "news_box = news_page_bs.find_all(\"div\",{\"class\":\"hover-effect\"})"
   ]
  },
  {
   "cell_type": "code",
   "execution_count": 121,
   "id": "3f1ee2fd-0fa0-4559-8320-dfae29f15a61",
   "metadata": {},
   "outputs": [],
   "source": [
    "news_list = []\n",
    "for i in news_box:\n",
    "    news_list.append( \"news \"+ \":\" + i.img[\"alt\"] )"
   ]
  },
  {
   "cell_type": "code",
   "execution_count": 122,
   "id": "f9234069-f899-434f-91e4-7b1840d73ff0",
   "metadata": {},
   "outputs": [],
   "source": [
    "news_set=set(news_list)"
   ]
  },
  {
   "cell_type": "code",
   "execution_count": 123,
   "id": "b08140f3-2e92-4a98-af50-ceef521a6d43",
   "metadata": {},
   "outputs": [
    {
     "data": {
      "text/plain": [
       "{\"news :'आखिर PM मोदी के लिए इतनी दीवानगी क्यों'- स्वागत में खड़े लोगों का जवाब सुनकर हर भारतीय होगा गदगद\",\n",
       " \"news :'गुंडागर्दी करने वालों को ऐसा सबक सिखाया जाएगा कि...', भोपाल के 'पट्टा कांड' पर सीएम शिवराज की खुली चेतावनी\",\n",
       " 'news :Adipurush को पांचवें दिन भी मिला दर्शकों का प्यार, आज हो सकती है 400 करोड़ क्लब में शामिल',\n",
       " 'news :Aligarh: 6 मंजिला इमारत में 512 फ्लैट, पक्षियों के लिए आशियाना बनाकर पेश की मानवता की मिसाल',\n",
       " 'news :International Yoga Day Live Update: सीएम योगी, राजनाथ सिंह, स्\\u200dमृति ईरानी ने किया योग, अमेरिका से पीएम मोदी ने दिया खास संदेश',\n",
       " 'news :International Yoga Day: CM Yogi से लेकर खेल मंत्री अनुराग ठाकुर तक, भारत के लोगों ने मनाया योग दिवस',\n",
       " \"news :International Yoga Day: योग दिवस पर अमेरिका से पीएम मोदी का संदेश, बोले- 'योग के विस्तार का मतलब वसुधैव कुटुंबकम की भावना का विस्तार'\",\n",
       " 'news :PM Modi US Visit Live: पीएम मोदी आज UN में योग दिवस कार्यक्रम में लेंगे हिस्सा, 180 देशों के प्रतिनिधि करेंगे योग',\n",
       " \"news :SAFF Cup IND vs PAK: 5 साल बाद होगा 'महामुकाबला', आज फिर पाकिस्तान को पिटेगा भारत! देखें हेड टू हेड रिकॉर्ड\",\n",
       " 'news :अहमदाबादः जगन्नाथ रथ यात्रा के दौरान हादसा, छत का छज्जा टूटकर गिरने से कई लोग घायल',\n",
       " \"news :जंतर-मंतर 'दंगल' का राज, खुल गया आज! देखिए 'पूछता है भारत' ऐश्वर्य के साथ रिपब्लिक भारत पर\",\n",
       " \"news :पाकिस्तान में गृहयुद्ध जैसे हालत, देखिए 'पूछता है भारत' ऐश्वर्य के साथ रिपब्लिक भारत प\",\n",
       " \"news :यूपी निकाय में विपक्ष की लगी 'लंका'? देखिए 'पूछता है भारत' ऐश्वर्य के साथ रिपब्लिक भारत पर\"}"
      ]
     },
     "execution_count": 123,
     "metadata": {},
     "output_type": "execute_result"
    }
   ],
   "source": [
    "news_set"
   ]
  },
  {
   "cell_type": "code",
   "execution_count": 95,
   "id": "094b7b1b-2fa2-42f6-9c73-084b8ae8cf9a",
   "metadata": {},
   "outputs": [],
   "source": [
    "news_data = db['my_news']"
   ]
  },
  {
   "cell_type": "code",
   "execution_count": 96,
   "id": "b4aa9b17-dc29-483f-8588-defeb483ceda",
   "metadata": {},
   "outputs": [
    {
     "ename": "TypeError",
     "evalue": "document must be an instance of dict, bson.son.SON, bson.raw_bson.RawBSONDocument, or a type that inherits from collections.MutableMapping",
     "output_type": "error",
     "traceback": [
      "\u001b[0;31m---------------------------------------------------------------------------\u001b[0m",
      "\u001b[0;31mTypeError\u001b[0m                                 Traceback (most recent call last)",
      "Cell \u001b[0;32mIn[96], line 1\u001b[0m\n\u001b[0;32m----> 1\u001b[0m \u001b[43mnews_data\u001b[49m\u001b[38;5;241;43m.\u001b[39;49m\u001b[43minsert_many\u001b[49m\u001b[43m(\u001b[49m\u001b[43mnews_set\u001b[49m\u001b[43m)\u001b[49m\n",
      "File \u001b[0;32m/opt/conda/lib/python3.10/site-packages/pymongo/_csot.py:105\u001b[0m, in \u001b[0;36mapply.<locals>.csot_wrapper\u001b[0;34m(self, *args, **kwargs)\u001b[0m\n\u001b[1;32m    103\u001b[0m         \u001b[38;5;28;01mwith\u001b[39;00m _TimeoutContext(timeout):\n\u001b[1;32m    104\u001b[0m             \u001b[38;5;28;01mreturn\u001b[39;00m func(\u001b[38;5;28mself\u001b[39m, \u001b[38;5;241m*\u001b[39margs, \u001b[38;5;241m*\u001b[39m\u001b[38;5;241m*\u001b[39mkwargs)\n\u001b[0;32m--> 105\u001b[0m \u001b[38;5;28;01mreturn\u001b[39;00m \u001b[43mfunc\u001b[49m\u001b[43m(\u001b[49m\u001b[38;5;28;43mself\u001b[39;49m\u001b[43m,\u001b[49m\u001b[43m \u001b[49m\u001b[38;5;241;43m*\u001b[39;49m\u001b[43margs\u001b[49m\u001b[43m,\u001b[49m\u001b[43m \u001b[49m\u001b[38;5;241;43m*\u001b[39;49m\u001b[38;5;241;43m*\u001b[39;49m\u001b[43mkwargs\u001b[49m\u001b[43m)\u001b[49m\n",
      "File \u001b[0;32m/opt/conda/lib/python3.10/site-packages/pymongo/collection.py:713\u001b[0m, in \u001b[0;36mCollection.insert_many\u001b[0;34m(self, documents, ordered, bypass_document_validation, session, comment)\u001b[0m\n\u001b[1;32m    711\u001b[0m write_concern \u001b[38;5;241m=\u001b[39m \u001b[38;5;28mself\u001b[39m\u001b[38;5;241m.\u001b[39m_write_concern_for(session)\n\u001b[1;32m    712\u001b[0m blk \u001b[38;5;241m=\u001b[39m _Bulk(\u001b[38;5;28mself\u001b[39m, ordered, bypass_document_validation, comment\u001b[38;5;241m=\u001b[39mcomment)\n\u001b[0;32m--> 713\u001b[0m blk\u001b[38;5;241m.\u001b[39mops \u001b[38;5;241m=\u001b[39m [doc \u001b[38;5;28;01mfor\u001b[39;00m doc \u001b[38;5;129;01min\u001b[39;00m gen()]\n\u001b[1;32m    714\u001b[0m blk\u001b[38;5;241m.\u001b[39mexecute(write_concern, session\u001b[38;5;241m=\u001b[39msession)\n\u001b[1;32m    715\u001b[0m \u001b[38;5;28;01mreturn\u001b[39;00m InsertManyResult(inserted_ids, write_concern\u001b[38;5;241m.\u001b[39macknowledged)\n",
      "File \u001b[0;32m/opt/conda/lib/python3.10/site-packages/pymongo/collection.py:713\u001b[0m, in \u001b[0;36m<listcomp>\u001b[0;34m(.0)\u001b[0m\n\u001b[1;32m    711\u001b[0m write_concern \u001b[38;5;241m=\u001b[39m \u001b[38;5;28mself\u001b[39m\u001b[38;5;241m.\u001b[39m_write_concern_for(session)\n\u001b[1;32m    712\u001b[0m blk \u001b[38;5;241m=\u001b[39m _Bulk(\u001b[38;5;28mself\u001b[39m, ordered, bypass_document_validation, comment\u001b[38;5;241m=\u001b[39mcomment)\n\u001b[0;32m--> 713\u001b[0m blk\u001b[38;5;241m.\u001b[39mops \u001b[38;5;241m=\u001b[39m [doc \u001b[38;5;28;01mfor\u001b[39;00m doc \u001b[38;5;129;01min\u001b[39;00m gen()]\n\u001b[1;32m    714\u001b[0m blk\u001b[38;5;241m.\u001b[39mexecute(write_concern, session\u001b[38;5;241m=\u001b[39msession)\n\u001b[1;32m    715\u001b[0m \u001b[38;5;28;01mreturn\u001b[39;00m InsertManyResult(inserted_ids, write_concern\u001b[38;5;241m.\u001b[39macknowledged)\n",
      "File \u001b[0;32m/opt/conda/lib/python3.10/site-packages/pymongo/collection.py:704\u001b[0m, in \u001b[0;36mCollection.insert_many.<locals>.gen\u001b[0;34m()\u001b[0m\n\u001b[1;32m    702\u001b[0m \u001b[38;5;124;03m\"\"\"A generator that validates documents and handles _ids.\"\"\"\u001b[39;00m\n\u001b[1;32m    703\u001b[0m \u001b[38;5;28;01mfor\u001b[39;00m document \u001b[38;5;129;01min\u001b[39;00m documents:\n\u001b[0;32m--> 704\u001b[0m     \u001b[43mcommon\u001b[49m\u001b[38;5;241;43m.\u001b[39;49m\u001b[43mvalidate_is_document_type\u001b[49m\u001b[43m(\u001b[49m\u001b[38;5;124;43m\"\u001b[39;49m\u001b[38;5;124;43mdocument\u001b[39;49m\u001b[38;5;124;43m\"\u001b[39;49m\u001b[43m,\u001b[49m\u001b[43m \u001b[49m\u001b[43mdocument\u001b[49m\u001b[43m)\u001b[49m\n\u001b[1;32m    705\u001b[0m     \u001b[38;5;28;01mif\u001b[39;00m \u001b[38;5;129;01mnot\u001b[39;00m \u001b[38;5;28misinstance\u001b[39m(document, RawBSONDocument):\n\u001b[1;32m    706\u001b[0m         \u001b[38;5;28;01mif\u001b[39;00m \u001b[38;5;124m\"\u001b[39m\u001b[38;5;124m_id\u001b[39m\u001b[38;5;124m\"\u001b[39m \u001b[38;5;129;01mnot\u001b[39;00m \u001b[38;5;129;01min\u001b[39;00m document:\n",
      "File \u001b[0;32m/opt/conda/lib/python3.10/site-packages/pymongo/common.py:521\u001b[0m, in \u001b[0;36mvalidate_is_document_type\u001b[0;34m(option, value)\u001b[0m\n\u001b[1;32m    519\u001b[0m \u001b[38;5;124;03m\"\"\"Validate the type of method arguments that expect a MongoDB document.\"\"\"\u001b[39;00m\n\u001b[1;32m    520\u001b[0m \u001b[38;5;28;01mif\u001b[39;00m \u001b[38;5;129;01mnot\u001b[39;00m \u001b[38;5;28misinstance\u001b[39m(value, (abc\u001b[38;5;241m.\u001b[39mMutableMapping, RawBSONDocument)):\n\u001b[0;32m--> 521\u001b[0m     \u001b[38;5;28;01mraise\u001b[39;00m \u001b[38;5;167;01mTypeError\u001b[39;00m(\n\u001b[1;32m    522\u001b[0m         \u001b[38;5;124m\"\u001b[39m\u001b[38;5;132;01m%s\u001b[39;00m\u001b[38;5;124m must be an instance of dict, bson.son.SON, \u001b[39m\u001b[38;5;124m\"\u001b[39m\n\u001b[1;32m    523\u001b[0m         \u001b[38;5;124m\"\u001b[39m\u001b[38;5;124mbson.raw_bson.RawBSONDocument, or \u001b[39m\u001b[38;5;124m\"\u001b[39m\n\u001b[1;32m    524\u001b[0m         \u001b[38;5;124m\"\u001b[39m\u001b[38;5;124ma type that inherits from \u001b[39m\u001b[38;5;124m\"\u001b[39m\n\u001b[1;32m    525\u001b[0m         \u001b[38;5;124m\"\u001b[39m\u001b[38;5;124mcollections.MutableMapping\u001b[39m\u001b[38;5;124m\"\u001b[39m \u001b[38;5;241m%\u001b[39m (option,)\n\u001b[1;32m    526\u001b[0m     )\n",
      "\u001b[0;31mTypeError\u001b[0m: document must be an instance of dict, bson.son.SON, bson.raw_bson.RawBSONDocument, or a type that inherits from collections.MutableMapping"
     ]
    }
   ],
   "source": [
    "news_data.insert_many(news_set)"
   ]
  },
  {
   "cell_type": "code",
   "execution_count": null,
   "id": "2c94a8b3-995c-46b4-83c9-b02eeaaa3093",
   "metadata": {},
   "outputs": [],
   "source": []
  }
 ],
 "metadata": {
  "kernelspec": {
   "display_name": "Python 3 (ipykernel)",
   "language": "python",
   "name": "python3"
  },
  "language_info": {
   "codemirror_mode": {
    "name": "ipython",
    "version": 3
   },
   "file_extension": ".py",
   "mimetype": "text/x-python",
   "name": "python",
   "nbconvert_exporter": "python",
   "pygments_lexer": "ipython3",
   "version": "3.10.8"
  }
 },
 "nbformat": 4,
 "nbformat_minor": 5
}
