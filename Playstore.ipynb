{
 "cells": [
  {
   "cell_type": "code",
   "execution_count": 114,
   "id": "39e218b6-1024-4b32-b5b1-3b85985242f5",
   "metadata": {},
   "outputs": [],
   "source": [
    "import requests\n",
    "from bs4 import BeautifulSoup as bs \n",
    "from urllib.request import urlopen\n",
    "import logging "
   ]
  },
  {
   "cell_type": "code",
   "execution_count": 175,
   "id": "7fb23956-37de-4d5c-acf5-ecb0f7a07a19",
   "metadata": {},
   "outputs": [],
   "source": [
    "google_url = \"https://play.google.com/store/search?q=\" + \"samsung\""
   ]
  },
  {
   "cell_type": "code",
   "execution_count": 176,
   "id": "56035f44-c01c-4ba0-b21f-029e865df381",
   "metadata": {},
   "outputs": [
    {
     "data": {
      "text/plain": [
       "'https://play.google.com/store/search?q=samsung'"
      ]
     },
     "execution_count": 176,
     "metadata": {},
     "output_type": "execute_result"
    }
   ],
   "source": [
    "google_url"
   ]
  },
  {
   "cell_type": "code",
   "execution_count": 177,
   "id": "2ae15dfd-934e-493f-a8ee-6abd340f11df",
   "metadata": {},
   "outputs": [],
   "source": [
    "urlclient = urlopen(google_url)"
   ]
  },
  {
   "cell_type": "code",
   "execution_count": 178,
   "id": "4e26f52a-4586-4a1b-99d6-6c06b825a916",
   "metadata": {},
   "outputs": [],
   "source": [
    "google_page = urlclient.read()"
   ]
  },
  {
   "cell_type": "code",
   "execution_count": 179,
   "id": "07f09cc5-5468-4238-90f2-e94041f3c441",
   "metadata": {},
   "outputs": [],
   "source": [
    "google_html=bs(google_page, \"html.parser\")"
   ]
  },
  {
   "cell_type": "code",
   "execution_count": 180,
   "id": "5da21100-70f5-4633-8198-1deb40e6b728",
   "metadata": {},
   "outputs": [],
   "source": [
    "google_box = google_html.find_all(\"div\" , {\"class\" :\"ULeU3b\"})"
   ]
  },
  {
   "cell_type": "code",
   "execution_count": 181,
   "id": "9a750f67-ebcb-4dd3-b75c-f5ad419e3cc5",
   "metadata": {},
   "outputs": [
    {
     "data": {
      "text/plain": [
       "19"
      ]
     },
     "execution_count": 181,
     "metadata": {},
     "output_type": "execute_result"
    }
   ],
   "source": [
    "len(google_box)"
   ]
  },
  {
   "cell_type": "code",
   "execution_count": 182,
   "id": "c66bab41-e113-4ffd-9dd7-22296542631a",
   "metadata": {},
   "outputs": [],
   "source": [
    "del google_box[0:3]"
   ]
  },
  {
   "cell_type": "code",
   "execution_count": 183,
   "id": "62313fca-0a48-4857-83e7-a0b7a43e8a71",
   "metadata": {},
   "outputs": [
    {
     "data": {
      "text/plain": [
       "'Samsung Internet Browser'"
      ]
     },
     "execution_count": 183,
     "metadata": {},
     "output_type": "execute_result"
    }
   ],
   "source": [
    "google_box[0].div.a.span.text"
   ]
  },
  {
   "cell_type": "code",
   "execution_count": 184,
   "id": "0984e46e-b8d6-4418-9164-0aa4560e9aff",
   "metadata": {},
   "outputs": [
    {
     "name": "stdout",
     "output_type": "stream",
     "text": [
      "Samsung Internet Browser\n",
      "\n",
      "Samsung Health\n",
      "Samsung Music\n",
      "SmartThings\n",
      "Samsung Notes\n",
      "Samsung Voice Recorder\n",
      "Samsung Members\n",
      "\n",
      "Samsung Calculator\n",
      "Galaxy Wearable (Samsung Gear)\n",
      "Samsung Global Goals\n",
      "\n",
      "Samsung Internet Browser Beta\n",
      "Device Care\n",
      "Samsung Email\n"
     ]
    }
   ],
   "source": [
    "for i in google_box:\n",
    "    print(i.div.a.span.text)"
   ]
  },
  {
   "cell_type": "code",
   "execution_count": null,
   "id": "d95e8dad-c41d-408a-9606-1c394fa00c52",
   "metadata": {},
   "outputs": [],
   "source": []
  }
 ],
 "metadata": {
  "kernelspec": {
   "display_name": "Python 3 (ipykernel)",
   "language": "python",
   "name": "python3"
  },
  "language_info": {
   "codemirror_mode": {
    "name": "ipython",
    "version": 3
   },
   "file_extension": ".py",
   "mimetype": "text/x-python",
   "name": "python",
   "nbconvert_exporter": "python",
   "pygments_lexer": "ipython3",
   "version": "3.10.8"
  }
 },
 "nbformat": 4,
 "nbformat_minor": 5
}
