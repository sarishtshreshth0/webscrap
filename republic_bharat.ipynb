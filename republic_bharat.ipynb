{
 "cells": [
  {
   "cell_type": "code",
   "execution_count": 1,
   "id": "9d3edb20-f22e-47b0-93dd-7b159e8817d1",
   "metadata": {},
   "outputs": [],
   "source": [
    "import requests\n",
    "from bs4 import BeautifulSoup as bs \n",
    "from urllib.request import urlopen\n",
    "import logging "
   ]
  },
  {
   "cell_type": "code",
   "execution_count": 2,
   "id": "adc9a89c-f128-4523-9a94-91f2c36cfdd6",
   "metadata": {},
   "outputs": [],
   "source": [
    "news_page = \"https://bharat.republicworld.com/\"+\"livetv\""
   ]
  },
  {
   "cell_type": "code",
   "execution_count": 3,
   "id": "2d0f4ad6-cdcf-4e1d-8934-19c8f10b9b4c",
   "metadata": {},
   "outputs": [],
   "source": [
    "headers = {\n",
    "    'user-agent': 'Mozilla/5.0 (Macintosh; Intel Mac OS X 10_15_7) AppleWebKit/537.36 (KHTML, like Gecko) Chrome/102.0.0.0 Safari/537.36',\n",
    "}"
   ]
  },
  {
   "cell_type": "code",
   "execution_count": 4,
   "id": "c8cb62de-f57c-4acb-af67-adc548e3cd51",
   "metadata": {},
   "outputs": [
    {
     "data": {
      "text/plain": [
       "'https://bharat.republicworld.com/livetv'"
      ]
     },
     "execution_count": 4,
     "metadata": {},
     "output_type": "execute_result"
    }
   ],
   "source": [
    "news_page"
   ]
  },
  {
   "cell_type": "code",
   "execution_count": 5,
   "id": "3bd19c12-5d09-4337-8191-0593eba6fc0b",
   "metadata": {},
   "outputs": [],
   "source": [
    "urlclient = urlopen(news_page)"
   ]
  },
  {
   "cell_type": "code",
   "execution_count": 6,
   "id": "0e9f3678-f6fc-4ef1-9d33-d6e98e12894d",
   "metadata": {},
   "outputs": [],
   "source": [
    "news_page = urlclient.read()"
   ]
  },
  {
   "cell_type": "code",
   "execution_count": 7,
   "id": "da947696-a137-42b5-8d41-cf319bcbb060",
   "metadata": {},
   "outputs": [],
   "source": [
    "news_page_bs=bs(news_page,\"html.parser\")"
   ]
  },
  {
   "cell_type": "code",
   "execution_count": 8,
   "id": "5511e408-3169-45a0-a553-d0c2ef86bd96",
   "metadata": {},
   "outputs": [],
   "source": [
    "news_box = news_page_bs.find_all(\"div\",{\"class\":\"hover-effect\"})"
   ]
  },
  {
   "cell_type": "code",
   "execution_count": 9,
   "id": "3f1ee2fd-0fa0-4559-8320-dfae29f15a61",
   "metadata": {},
   "outputs": [],
   "source": [
    "news_list = []\n",
    "for i in news_box:\n",
    "    news_list.append( \"news \"+ \":\" + i.img[\"alt\"] )"
   ]
  },
  {
   "cell_type": "code",
   "execution_count": 10,
   "id": "f9234069-f899-434f-91e4-7b1840d73ff0",
   "metadata": {},
   "outputs": [],
   "source": [
    "news_set=set(news_list)"
   ]
  },
  {
   "cell_type": "code",
   "execution_count": 11,
   "id": "b08140f3-2e92-4a98-af50-ceef521a6d43",
   "metadata": {},
   "outputs": [
    {
     "data": {
      "text/plain": [
       "{\"news :'आखिर PM मोदी के लिए इतनी दीवानगी क्यों'- स्वागत में खड़े लोगों का जवाब सुनकर हर भारतीय होगा गदगद\",\n",
       " 'news :Aligarh: 6 मंजिला इमारत में 512 फ्लैट, पक्षियों के लिए आशियाना बनाकर पेश की मानवता की मिसाल',\n",
       " 'news :Ashes: ENG vs AUS के बीच हुई सांस रोकने वाली मैच, फिर ICC ने किस बात की सजा दी?',\n",
       " 'news :Delhi Riots: दिल्ली दंगों का साजिशकर्ता गिरफ्तार, हेड कांस्टेबल रतनलाल की हत्या के बाद से था फरार',\n",
       " \"news :International Yoga Day: 'योगा से ही होगा', सहवाग-गंभीर ने युवाओं को दिया मंत्र, बताया इसके फायदे\",\n",
       " 'news :International Yoga Day: कुणाल खेमू, मलाइका अरोड़ा और नेहा धूपिया ने बताया क्यों है योग जरूरी',\n",
       " \"news :PM Modi से मिले तो फैन हुए Elon Musk; स्मृति ईरानी बोलीं- 'ये भारतीयों के लिए गर्व का विषय'\",\n",
       " 'news :The Kerala Story की अदा शर्मा के लिए विरासत है योग, बताया कौन सा आसन है सबसे प्रिय',\n",
       " 'news :अहमदाबादः जगन्नाथ रथ यात्रा के दौरान हादसा, छत का छज्जा टूटकर गिरने से कई लोग घायल',\n",
       " 'news :इन सेलिब्रेटिज के बच्चे भी हैं योग में उस्ताद, जानकर आप भी रह जाएंगे हैरान!',\n",
       " \"news :जंतर-मंतर 'दंगल' का राज, खुल गया आज! देखिए 'पूछता है भारत' ऐश्वर्य के साथ रिपब्लिक भारत पर\",\n",
       " \"news :पाकिस्तान में गृहयुद्ध जैसे हालत, देखिए 'पूछता है भारत' ऐश्वर्य के साथ रिपब्लिक भारत प\",\n",
       " \"news :यूपी निकाय में विपक्ष की लगी 'लंका'? देखिए 'पूछता है भारत' ऐश्वर्य के साथ रिपब्लिक भारत पर\"}"
      ]
     },
     "execution_count": 11,
     "metadata": {},
     "output_type": "execute_result"
    }
   ],
   "source": [
    "news_set"
   ]
  },
  {
   "cell_type": "code",
   "execution_count": null,
   "id": "2c94a8b3-995c-46b4-83c9-b02eeaaa3093",
   "metadata": {},
   "outputs": [],
   "source": []
  }
 ],
 "metadata": {
  "kernelspec": {
   "display_name": "Python 3 (ipykernel)",
   "language": "python",
   "name": "python3"
  },
  "language_info": {
   "codemirror_mode": {
    "name": "ipython",
    "version": 3
   },
   "file_extension": ".py",
   "mimetype": "text/x-python",
   "name": "python",
   "nbconvert_exporter": "python",
   "pygments_lexer": "ipython3",
   "version": "3.10.8"
  }
 },
 "nbformat": 4,
 "nbformat_minor": 5
}
